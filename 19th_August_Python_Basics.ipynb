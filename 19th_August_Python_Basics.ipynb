{
 "cells": [
  {
   "cell_type": "markdown",
   "id": "5054d545",
   "metadata": {},
   "source": [
    "# TOPIC: Python Basics Variable"
   ]
  },
  {
   "cell_type": "code",
   "execution_count": 4,
   "id": "c00393c3",
   "metadata": {},
   "outputs": [
    {
     "name": "stdout",
     "output_type": "stream",
     "text": [
      "Before swaping :  3 5\n",
      "Swaped value is:  5 3\n"
     ]
    }
   ],
   "source": [
    "x=3\n",
    "y=5\n",
    "print(\"Before swaping : \",x,y)\n",
    "x,y=y,x\n",
    "print(\"Swaped value is: \",x,y)"
   ]
  },
  {
   "cell_type": "code",
   "execution_count": 5,
   "id": "38788da1",
   "metadata": {},
   "outputs": [
    {
     "name": "stdout",
     "output_type": "stream",
     "text": [
      "enter the length:6\n",
      "enter the breadth:4\n",
      "area of the rectangle is: 24\n"
     ]
    }
   ],
   "source": [
    "length=int(input(\"enter the length:\"))\n",
    "breadth=int(input(\"enter the breadth:\"))\n",
    "area=length*breadth\n",
    "print(\"area of the rectangle is:\",area)\n"
   ]
  },
  {
   "cell_type": "code",
   "execution_count": 8,
   "id": "a82327de",
   "metadata": {},
   "outputs": [
    {
     "name": "stdout",
     "output_type": "stream",
     "text": [
      "enter the temp in celcius:35\n",
      "the converted temp in f is: 95.0\n"
     ]
    }
   ],
   "source": [
    "c=float(input(\"enter the temp in celcius:\"))\n",
    "f=(c*(9/5))+32\n",
    "print(\"the converted temp in f is:\", f)"
   ]
  },
  {
   "cell_type": "markdown",
   "id": "268a7ab7",
   "metadata": {},
   "source": [
    "# TOPIC: String Based Questions"
   ]
  },
  {
   "cell_type": "code",
   "execution_count": 10,
   "id": "367a02af",
   "metadata": {},
   "outputs": [
    {
     "name": "stdout",
     "output_type": "stream",
     "text": [
      "enter a string: vipin_chauhan\n",
      "the length is: 13\n"
     ]
    }
   ],
   "source": [
    "string=input(\"enter a string: \")\n",
    "length=len(string)\n",
    "print(\"the length is:\",length)"
   ]
  },
  {
   "cell_type": "code",
   "execution_count": 13,
   "id": "c3419546",
   "metadata": {},
   "outputs": [
    {
     "name": "stdout",
     "output_type": "stream",
     "text": [
      "enter a string: vipin_chauhan\n",
      "the no of vovels in the string are: 5\n"
     ]
    }
   ],
   "source": [
    "string=input(\"enter a string: \")\n",
    "arr=['a','e','i','o','u']\n",
    "count=0\n",
    "for i in string:\n",
    "    if i in arr:\n",
    "        count=count+1\n",
    "        \n",
    "print(\"the no of vovels in the string are:\",count)        \n",
    "        \n",
    "        "
   ]
  },
  {
   "cell_type": "code",
   "execution_count": 20,
   "id": "414188cf",
   "metadata": {},
   "outputs": [
    {
     "name": "stdout",
     "output_type": "stream",
     "text": [
      "enter a string: vipin_chauhan\n",
      "the reversed string:  nahuahc_nipiv\n"
     ]
    }
   ],
   "source": [
    "string=input(\"enter a string: \")\n",
    "l=len(string)\n",
    "print(\"the reversed string: \",string[-1:-l-1:-1])\n"
   ]
  },
  {
   "cell_type": "code",
   "execution_count": 21,
   "id": "e4a13581",
   "metadata": {},
   "outputs": [
    {
     "name": "stdout",
     "output_type": "stream",
     "text": [
      "enter a string: level\n",
      "the string is palindrome\n"
     ]
    }
   ],
   "source": [
    "string=input(\"enter a string: \")\n",
    "rev_string=string[-1:-l-1:-1]\n",
    "if string==rev_string:\n",
    "    print(\"the string is palindrome\")\n",
    "else:\n",
    "    print(\"the string is not palindrome\")\n"
   ]
  },
  {
   "cell_type": "code",
   "execution_count": 25,
   "id": "5a186676",
   "metadata": {},
   "outputs": [
    {
     "name": "stdout",
     "output_type": "stream",
     "text": [
      "enter a string: v i p i n c hauh an\n",
      "the space removed string is:  vipinchauhan\n"
     ]
    }
   ],
   "source": [
    "string=input(\"enter a string: \")\n",
    "list = []\n",
    "for i in range(len(string)):\n",
    "    if string[i] != ' ':\n",
    "        list.append(string[i])\n",
    "newstr=''.join(list)\n",
    "\n",
    "print(\"the space removed string is: \",newstr)\n",
    "\n",
    "\n"
   ]
  },
  {
   "cell_type": "code",
   "execution_count": null,
   "id": "121c1767",
   "metadata": {},
   "outputs": [],
   "source": []
  }
 ],
 "metadata": {
  "celltoolbar": "Attachments",
  "kernelspec": {
   "display_name": "Python 3 (ipykernel)",
   "language": "python",
   "name": "python3"
  },
  "language_info": {
   "codemirror_mode": {
    "name": "ipython",
    "version": 3
   },
   "file_extension": ".py",
   "mimetype": "text/x-python",
   "name": "python",
   "nbconvert_exporter": "python",
   "pygments_lexer": "ipython3",
   "version": "3.11.4"
  }
 },
 "nbformat": 4,
 "nbformat_minor": 5
}
